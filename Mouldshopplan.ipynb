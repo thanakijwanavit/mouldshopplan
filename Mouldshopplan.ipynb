{
 "cells": [
  {
   "cell_type": "code",
   "execution_count": 172,
   "metadata": {},
   "outputs": [],
   "source": [
    "import requests\n",
    "from datetime import datetime\n",
    "from dateutil.parser import parse"
   ]
  },
  {
   "cell_type": "code",
   "execution_count": 173,
   "metadata": {},
   "outputs": [],
   "source": [
    "def lambda_handler(event, context):\n",
    "    # TODO implement\n",
    "    #hex = hashlib.sha256((event['queryStringParameters']['string']+salt).encode('UTF-8')).hexdigest()\n",
    "    name=event['queryStringParameters']['name']\n",
    "    date=event['queryStringParameters']['date']\n",
    "    output=findworks(getarray(),name,date)\n",
    "    response ={\"statusCode\": 200,\"headers\": {\"my_header\": \"my_value\"},\"body\": str(output),\"isBase64Encoded\": False}\n",
    "    return response"
   ]
  },
  {
   "cell_type": "code",
   "execution_count": 174,
   "metadata": {},
   "outputs": [],
   "source": [
    "#get data from google sheets\n",
    "def getdata(url='https://docs.google.com/spreadsheets/d/e/2PACX-1vQUZvwS_Uue7j4zfhZcw1AIujz_fZvAh7RSRnmozQJmE6j69-djrGYuZWcGTwGa446b6CtU-k-I3rkh/pub?gid=1649651434&single=true&output=csv'):\n",
    "    t=requests.get(url)\n",
    "    t.encoding='utf-8'\n",
    "    infostring=t.text\n",
    "    return infostring\n",
    "##parse google sheet data into array r\n",
    "def parseIntoArray(infostring):\n",
    "    line = infostring.split('\\r\\n')\n",
    "    s = []\n",
    "    for i in line:\n",
    "        s.append(i.split(','))\n",
    "    return s\n",
    "def getarray():\n",
    "    return parseIntoArray(getdata())\n",
    "def testGetdata():\n",
    "    print(getarray())\n",
    "def convertTodate(datestring):\n",
    "    try:\n",
    "        d=datetime.strptime(datestring,'%d-%b-%Y')\n",
    "    except:\n",
    "        d=\"error\"\n",
    "    return d\n",
    "def findworks(data,workername,todaystring):\n",
    "    today=parse(todaystring, fuzzy=True)\n",
    "    printout = ''\n",
    "    for i,j in enumerate(data):\n",
    "        try:\n",
    "            condition1= j[11]==workername\n",
    "            condition2= j[0]!='finished'\n",
    "            condition3= convertTodate(j[6]) <= today\n",
    "            condition4= j[12]==workername\n",
    "            if (condition1 * condition2 * condition3)or(condition4 * condition2 * condition3): \n",
    "                if printout != '':\n",
    "                    printout +='\\n'\n",
    "                printout += j[3]\n",
    "        except:\n",
    "            continue\n",
    "    return printout\n",
    "#findworks(getarray(),'A ปรีชา','2 jul 18')"
   ]
  },
  {
   "cell_type": "code",
   "execution_count": 175,
   "metadata": {},
   "outputs": [],
   "source": [
    "#findworks(getarray(),'G ทวี','2 jul 18')"
   ]
  },
  {
   "cell_type": "code",
   "execution_count": null,
   "metadata": {},
   "outputs": [],
   "source": []
  }
 ],
 "metadata": {
  "kernelspec": {
   "display_name": "Python 3",
   "language": "python",
   "name": "python3"
  },
  "language_info": {
   "codemirror_mode": {
    "name": "ipython",
    "version": 3
   },
   "file_extension": ".py",
   "mimetype": "text/x-python",
   "name": "python",
   "nbconvert_exporter": "python",
   "pygments_lexer": "ipython3",
   "version": "3.6.1"
  }
 },
 "nbformat": 4,
 "nbformat_minor": 2
}

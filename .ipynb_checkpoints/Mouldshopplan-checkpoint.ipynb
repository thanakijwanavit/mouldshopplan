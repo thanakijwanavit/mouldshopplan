{
 "cells": [
  {
   "cell_type": "code",
   "execution_count": 119,
   "metadata": {},
   "outputs": [],
   "source": [
    "import requests\n",
    "from datetime import datetime\n",
    "from dateutil.parser import parse"
   ]
  },
  {
   "cell_type": "code",
   "execution_count": 168,
   "metadata": {},
   "outputs": [
    {
     "data": {
      "text/plain": [
       "'\"ใบพัด18\"\"AS\"\\nPlastic Bush Front Cover (A18)\\nFrame U 18\\'\\' (A18)\\nStem holding plate (A18)\\nMetal frame (A18)\\nPlastic gear box (A18)\\nMetal oscillation frame (A18)\\n\"Plastic oscillation frame 18\"\" (A18)\"'"
      ]
     },
     "execution_count": 168,
     "metadata": {},
     "output_type": "execute_result"
    }
   ],
   "source": [
    "#get data from google sheets\n",
    "def getdata(url='https://docs.google.com/spreadsheets/d/e/2PACX-1vQUZvwS_Uue7j4zfhZcw1AIujz_fZvAh7RSRnmozQJmE6j69-djrGYuZWcGTwGa446b6CtU-k-I3rkh/pub?gid=1649651434&single=true&output=csv'):\n",
    "    t=requests.get(url)\n",
    "    t.encoding='utf-8'\n",
    "    infostring=t.text\n",
    "    return infostring\n",
    "##parse google sheet data into array r\n",
    "def parseIntoArray(infostring):\n",
    "    line = infostring.split('\\r\\n')\n",
    "    s = []\n",
    "    for i in line:\n",
    "        s.append(i.split(','))\n",
    "    return s\n",
    "def getarray():\n",
    "    return parseIntoArray(getdata())\n",
    "def testGetdata():\n",
    "    print(getarray())\n",
    "def convertTodate(datestring):\n",
    "    try:\n",
    "        d=datetime.strptime(datestring,'%d-%b-%Y')\n",
    "    except:\n",
    "        d=\"error\"\n",
    "    return d\n",
    "def findworks(data,workername,todaystring):\n",
    "    today=parse(todaystring, fuzzy=True)\n",
    "    printout = ''\n",
    "    for i,j in enumerate(data):\n",
    "        try:\n",
    "            condition1= j[11]==workername\n",
    "            condition2= j[0]!='finished'\n",
    "            condition3= convertTodate(j[6]) <= today\n",
    "            condition4= j[12]==workername\n",
    "            if (condition1 * condition2 * condition3)or(condition4 * condition2 * condition3): \n",
    "                if printout != '':\n",
    "                    printout +='\\n'\n",
    "                printout += j[3]\n",
    "        except:\n",
    "            continue\n",
    "    return printout\n",
    "findworks(getarray(),'A ปรีชา','2 jul 18')"
   ]
  },
  {
   "cell_type": "code",
   "execution_count": 170,
   "metadata": {},
   "outputs": [
    {
     "data": {
      "text/plain": [
       "'ฐานล่าง IP20M1\\nแผ่นปิดฐานล่าง IP20M1'"
      ]
     },
     "execution_count": 170,
     "metadata": {},
     "output_type": "execute_result"
    }
   ],
   "source": [
    "findworks(getarray(),'G ทวี','2 jul 18')"
   ]
  },
  {
   "cell_type": "code",
   "execution_count": null,
   "metadata": {},
   "outputs": [],
   "source": []
  }
 ],
 "metadata": {
  "kernelspec": {
   "display_name": "Python 3",
   "language": "python",
   "name": "python3"
  },
  "language_info": {
   "codemirror_mode": {
    "name": "ipython",
    "version": 3
   },
   "file_extension": ".py",
   "mimetype": "text/x-python",
   "name": "python",
   "nbconvert_exporter": "python",
   "pygments_lexer": "ipython3",
   "version": "3.6.1"
  }
 },
 "nbformat": 4,
 "nbformat_minor": 2
}

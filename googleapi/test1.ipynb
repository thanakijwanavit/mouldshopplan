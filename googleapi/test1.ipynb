{
 "cells": [
  {
   "cell_type": "code",
   "execution_count": 99,
   "metadata": {},
   "outputs": [],
   "source": [
    "from __future__ import print_function\n",
    "from apiclient.discovery import build\n",
    "from httplib2 import Http\n",
    "from oauth2client import file, client, tools\n",
    "import gspread"
   ]
  },
  {
   "cell_type": "code",
   "execution_count": 65,
   "metadata": {},
   "outputs": [],
   "source": [
    "def setupSheet():\n",
    "    # Setup the Sheets API\n",
    "    SCOPES = 'https://www.googleapis.com/auth/spreadsheets'\n",
    "    store = file.Storage('credentials.json')\n",
    "    creds = store.get()\n",
    "    if not creds or creds.invalid:\n",
    "        flow = client.flow_from_clientsecrets('client_secret.json', SCOPES)\n",
    "        creds = tools.run_flow(flow, store)\n",
    "    service = build('sheets', 'v4', http=creds.authorize(Http()))\n",
    "    return service"
   ]
  },
  {
   "cell_type": "code",
   "execution_count": 66,
   "metadata": {},
   "outputs": [
    {
     "data": {
      "text/plain": [
       "<googleapiclient.discovery.Resource at 0x10aa9e7b8>"
      ]
     },
     "execution_count": 66,
     "metadata": {},
     "output_type": "execute_result"
    }
   ],
   "source": [
    "setupSheet()"
   ]
  },
  {
   "cell_type": "code",
   "execution_count": 95,
   "metadata": {},
   "outputs": [],
   "source": [
    "def callSheetValues():\n",
    "    service=setupSheet()\n",
    "    # Call the Sheets API\n",
    "    SPREADSHEET_ID = '15qIsHJqVanTBsNmCMO3_ZFf1h10YVkGgx6ObjTFVW7Q'\n",
    "    RANGE_NAME = 'Form Responses 1!A2:E'\n",
    "    result = service.spreadsheets().values().get(spreadsheetId=SPREADSHEET_ID,range=RANGE_NAME).execute()\n",
    "    values = result.get('values', [])\n",
    "    if not values:\n",
    "        print('No data found.')\n",
    "    else:\n",
    "        print('Name, Major:')\n",
    "        for row in values:\n",
    "            # Print columns A and E, which correspond to indices 0 and 4.\n",
    "            #print('%s, %s' % (row[0], row[1]))\n",
    "            print('%s' % [row[i] for i in range(0,len(row))])\n",
    "            #print([p for p in range(0,len(row))])"
   ]
  },
  {
   "cell_type": "code",
   "execution_count": 96,
   "metadata": {},
   "outputs": [
    {
     "name": "stdout",
     "output_type": "stream",
     "text": [
      "Name, Major:\n",
      "['1/5/2018 15:06:56', 'nic', 'wanavit', '4-Feb-90', 'nwanavit@gmail.com']\n",
      "['1/5/2018 15:11:55', 'banchob', 'Prasarnsaeng', '26-Mar-82']\n",
      "['1/6/2018 10:03:31', 'kitti', 'kankaew', '1-Aug-86']\n",
      "['1/5/2018 15:50:43', 'Thepthong', 'Watanapongsawat', '1-Sep-88']\n",
      "['1/6/2018 9:37:54', 'niruch', 'oisin', '15-Dec-81']\n",
      "['1/5/2018 19:47:20', 'อำนวย', 'ลือบางใหญ่', '6-Aug-76']\n",
      "['1/5/2018 20:10:04', 'Thanita ', 'Stirapongsasuti ', '8-Oct-89']\n",
      "['1/6/2018 9:41:13', 'Varangkana', 'Tidtor', '1-May-97']\n",
      "['1/6/2018 9:45:53', 'Titiwut', 'Dachthuyawat', '26-Oct-75']\n",
      "['1/6/2018 10:07:06', 'wirat', 'sriwang', '13-Jun-79']\n",
      "['1/6/2018 10:30:27', 'Suwimol', 'Pontue', '2-Jun-92']\n",
      "['1/6/2018 10:31:28', 'surasak', 'chumtrenok', '4-Jan-78']\n",
      "['1/6/2018 10:31:39', 'nikorn', 'kantarat', '12-Oct-83']\n",
      "['1/6/2018 10:44:45', 'Khanittha', 'Chungchana', '17-Oct-88']\n",
      "['1/6/2018 12:21:19', 'kornpongs', 'Rojthammakun', '7-Feb-85']\n",
      "['1/6/2018 14:09:23', 'Siriphong', 'Phonchai', '14-Jul-84']\n",
      "['1/6/2018 15:48:35', 'Oub', 'Poeiem', '20-Dec-63']\n",
      "['1/10/2018 13:56:50', 'Sorapon', 'Nimnu', '3-Jul-65']\n",
      "['1/6/2018 16:01:42', 'Jetjumnong', 'Kodach', '10-Sep-63']\n",
      "['1/6/2018 16:11:44', 'Worakon', 'Kongthaisong', '1-Jun-92']\n",
      "['1/8/2018 18:06:41', 'Sompet', 'Upachai', '11-Mar-74']\n",
      "['1/8/2018 18:29:14', 'Saksit', 'Yaunyee', '28-Sep-77']\n",
      "['1/8/2018 20:19:45', 'Wan', 'Khammongkhol', '18-Nov-76']\n",
      "['1/9/2018 17:40:20', 'Prawit', 'Phonda', '22-Apr-82']\n",
      "['1/9/2018 20:57:11', 'Oratai', 'Chantarawong', '2-Jan-76']\n",
      "['1/10/2018 10:27:48', 'wuttipong', 'jaole', '24-Jul-91']\n",
      "['1/10/2018 19:54:35', 'Wanchai', 'Tapsuri', '18-Nov-82']\n",
      "[]\n",
      "[]\n",
      "[]\n",
      "[]\n",
      "['1/11/2018 14:15:12', 'Peach', 'Thanakanjanasuth', '4 Apr 1991']\n",
      "['1/15/2018 9:19:14', 'Preecha', 'Kamrat', '17-Jan-1976']\n"
     ]
    }
   ],
   "source": [
    "callSheetValues()"
   ]
  },
  {
   "cell_type": "code",
   "execution_count": 97,
   "metadata": {},
   "outputs": [],
   "source": [
    "def updateSheet():\n",
    "    \"\"\"\n",
    "    BEFORE RUNNING:\n",
    "    ---------------\n",
    "    1. If not already done, enable the Google Sheets API\n",
    "       and check the quota for your project at\n",
    "       https://console.developers.google.com/apis/api/sheets\n",
    "    2. Install the Python client library for Google APIs by running\n",
    "       'pip install --upgrade google-api-python-client'\n",
    "    \"\"\"\n",
    "    from pprint import pprint\n",
    "    #from googleapiclient import discovery\n",
    "\n",
    "    # TODO: Change placeholder below to generate authentication credentials. See\n",
    "    # https://developers.google.com/sheets/quickstart/python#step_3_set_up_the_sample\n",
    "    #\n",
    "    # Authorize using one of the following scopes:\n",
    "    #     'https://www.googleapis.com/auth/drive'\n",
    "    #     'https://www.googleapis.com/auth/drive.file'\n",
    "    #     'https://www.googleapis.com/auth/spreadsheets'\n",
    "    \n",
    "\n",
    "    service = setupSheet()\n",
    "    # The ID of the spreadsheet to update.\n",
    "    spreadsheet_id = '15qIsHJqVanTBsNmCMO3_ZFf1h10YVkGgx6ObjTFVW7Q'  # TODO: Update placeholder value.\n",
    "\n",
    "    # The A1 notation of the values to update.\n",
    "    range_ = \"Copy of Form Responses 1!B9\"  # TODO: Update placeholder value.\n",
    "\n",
    "    # How the input data should be interpreted.\n",
    "    value_input_option = 'RAW'  # TODO: Update placeholder value.\n",
    "\n",
    "    value_range_body = {\n",
    "        # TODO: Add desired entries to the request body. All existing entries\n",
    "        # will be replaced.\n",
    "    }\n",
    "\n",
    "    request = service.spreadsheets().values().update(spreadsheetId=spreadsheet_id, range=range_, valueInputOption=value_input_option, body=value_range_body)\n",
    "    response = request.execute()\n",
    "\n",
    "    # TODO: Change code below to process the `response` dict:\n",
    "    pprint(response)"
   ]
  },
  {
   "cell_type": "code",
   "execution_count": 98,
   "metadata": {},
   "outputs": [
    {
     "ename": "HttpError",
     "evalue": "<HttpError 403 when requesting https://sheets.googleapis.com/v4/spreadsheets/15qIsHJqVanTBsNmCMO3_ZFf1h10YVkGgx6ObjTFVW7Q/values/Copy%20of%20Form%20Responses%201%21B9?valueInputOption=RAW&alt=json returned \"Request had insufficient authentication scopes.\">",
     "output_type": "error",
     "traceback": [
      "\u001b[0;31m---------------------------------------------------------------------------\u001b[0m",
      "\u001b[0;31mHttpError\u001b[0m                                 Traceback (most recent call last)",
      "\u001b[0;32m<ipython-input-98-c8e4597a97b1>\u001b[0m in \u001b[0;36m<module>\u001b[0;34m()\u001b[0m\n\u001b[0;32m----> 1\u001b[0;31m \u001b[0mupdateSheet\u001b[0m\u001b[0;34m(\u001b[0m\u001b[0;34m)\u001b[0m\u001b[0;34m\u001b[0m\u001b[0m\n\u001b[0m",
      "\u001b[0;32m<ipython-input-97-c4a4c47db32c>\u001b[0m in \u001b[0;36mupdateSheet\u001b[0;34m()\u001b[0m\n\u001b[1;32m     37\u001b[0m \u001b[0;34m\u001b[0m\u001b[0m\n\u001b[1;32m     38\u001b[0m     \u001b[0mrequest\u001b[0m \u001b[0;34m=\u001b[0m \u001b[0mservice\u001b[0m\u001b[0;34m.\u001b[0m\u001b[0mspreadsheets\u001b[0m\u001b[0;34m(\u001b[0m\u001b[0;34m)\u001b[0m\u001b[0;34m.\u001b[0m\u001b[0mvalues\u001b[0m\u001b[0;34m(\u001b[0m\u001b[0;34m)\u001b[0m\u001b[0;34m.\u001b[0m\u001b[0mupdate\u001b[0m\u001b[0;34m(\u001b[0m\u001b[0mspreadsheetId\u001b[0m\u001b[0;34m=\u001b[0m\u001b[0mspreadsheet_id\u001b[0m\u001b[0;34m,\u001b[0m \u001b[0mrange\u001b[0m\u001b[0;34m=\u001b[0m\u001b[0mrange_\u001b[0m\u001b[0;34m,\u001b[0m \u001b[0mvalueInputOption\u001b[0m\u001b[0;34m=\u001b[0m\u001b[0mvalue_input_option\u001b[0m\u001b[0;34m,\u001b[0m \u001b[0mbody\u001b[0m\u001b[0;34m=\u001b[0m\u001b[0mvalue_range_body\u001b[0m\u001b[0;34m)\u001b[0m\u001b[0;34m\u001b[0m\u001b[0m\n\u001b[0;32m---> 39\u001b[0;31m     \u001b[0mresponse\u001b[0m \u001b[0;34m=\u001b[0m \u001b[0mrequest\u001b[0m\u001b[0;34m.\u001b[0m\u001b[0mexecute\u001b[0m\u001b[0;34m(\u001b[0m\u001b[0;34m)\u001b[0m\u001b[0;34m\u001b[0m\u001b[0m\n\u001b[0m\u001b[1;32m     40\u001b[0m \u001b[0;34m\u001b[0m\u001b[0m\n\u001b[1;32m     41\u001b[0m     \u001b[0;31m# TODO: Change code below to process the `response` dict:\u001b[0m\u001b[0;34m\u001b[0m\u001b[0;34m\u001b[0m\u001b[0m\n",
      "\u001b[0;32m/Library/Frameworks/Python.framework/Versions/3.6/lib/python3.6/site-packages/googleapiclient/_helpers.py\u001b[0m in \u001b[0;36mpositional_wrapper\u001b[0;34m(*args, **kwargs)\u001b[0m\n\u001b[1;32m    128\u001b[0m                 \u001b[0;32melif\u001b[0m \u001b[0mpositional_parameters_enforcement\u001b[0m \u001b[0;34m==\u001b[0m \u001b[0mPOSITIONAL_WARNING\u001b[0m\u001b[0;34m:\u001b[0m\u001b[0;34m\u001b[0m\u001b[0m\n\u001b[1;32m    129\u001b[0m                     \u001b[0mlogger\u001b[0m\u001b[0;34m.\u001b[0m\u001b[0mwarning\u001b[0m\u001b[0;34m(\u001b[0m\u001b[0mmessage\u001b[0m\u001b[0;34m)\u001b[0m\u001b[0;34m\u001b[0m\u001b[0m\n\u001b[0;32m--> 130\u001b[0;31m             \u001b[0;32mreturn\u001b[0m \u001b[0mwrapped\u001b[0m\u001b[0;34m(\u001b[0m\u001b[0;34m*\u001b[0m\u001b[0margs\u001b[0m\u001b[0;34m,\u001b[0m \u001b[0;34m**\u001b[0m\u001b[0mkwargs\u001b[0m\u001b[0;34m)\u001b[0m\u001b[0;34m\u001b[0m\u001b[0m\n\u001b[0m\u001b[1;32m    131\u001b[0m         \u001b[0;32mreturn\u001b[0m \u001b[0mpositional_wrapper\u001b[0m\u001b[0;34m\u001b[0m\u001b[0m\n\u001b[1;32m    132\u001b[0m \u001b[0;34m\u001b[0m\u001b[0m\n",
      "\u001b[0;32m/Library/Frameworks/Python.framework/Versions/3.6/lib/python3.6/site-packages/googleapiclient/http.py\u001b[0m in \u001b[0;36mexecute\u001b[0;34m(self, http, num_retries)\u001b[0m\n\u001b[1;32m    838\u001b[0m       \u001b[0mcallback\u001b[0m\u001b[0;34m(\u001b[0m\u001b[0mresp\u001b[0m\u001b[0;34m)\u001b[0m\u001b[0;34m\u001b[0m\u001b[0m\n\u001b[1;32m    839\u001b[0m     \u001b[0;32mif\u001b[0m \u001b[0mresp\u001b[0m\u001b[0;34m.\u001b[0m\u001b[0mstatus\u001b[0m \u001b[0;34m>=\u001b[0m \u001b[0;36m300\u001b[0m\u001b[0;34m:\u001b[0m\u001b[0;34m\u001b[0m\u001b[0m\n\u001b[0;32m--> 840\u001b[0;31m       \u001b[0;32mraise\u001b[0m \u001b[0mHttpError\u001b[0m\u001b[0;34m(\u001b[0m\u001b[0mresp\u001b[0m\u001b[0;34m,\u001b[0m \u001b[0mcontent\u001b[0m\u001b[0;34m,\u001b[0m \u001b[0muri\u001b[0m\u001b[0;34m=\u001b[0m\u001b[0mself\u001b[0m\u001b[0;34m.\u001b[0m\u001b[0muri\u001b[0m\u001b[0;34m)\u001b[0m\u001b[0;34m\u001b[0m\u001b[0m\n\u001b[0m\u001b[1;32m    841\u001b[0m     \u001b[0;32mreturn\u001b[0m \u001b[0mself\u001b[0m\u001b[0;34m.\u001b[0m\u001b[0mpostproc\u001b[0m\u001b[0;34m(\u001b[0m\u001b[0mresp\u001b[0m\u001b[0;34m,\u001b[0m \u001b[0mcontent\u001b[0m\u001b[0;34m)\u001b[0m\u001b[0;34m\u001b[0m\u001b[0m\n\u001b[1;32m    842\u001b[0m \u001b[0;34m\u001b[0m\u001b[0m\n",
      "\u001b[0;31mHttpError\u001b[0m: <HttpError 403 when requesting https://sheets.googleapis.com/v4/spreadsheets/15qIsHJqVanTBsNmCMO3_ZFf1h10YVkGgx6ObjTFVW7Q/values/Copy%20of%20Form%20Responses%201%21B9?valueInputOption=RAW&alt=json returned \"Request had insufficient authentication scopes.\">"
     ]
    }
   ],
   "source": [
    "updateSheet()"
   ]
  },
  {
   "cell_type": "code",
   "execution_count": null,
   "metadata": {},
   "outputs": [],
   "source": []
  }
 ],
 "metadata": {
  "kernelspec": {
   "display_name": "Python 3",
   "language": "python",
   "name": "python3"
  },
  "language_info": {
   "codemirror_mode": {
    "name": "ipython",
    "version": 3
   },
   "file_extension": ".py",
   "mimetype": "text/x-python",
   "name": "python",
   "nbconvert_exporter": "python",
   "pygments_lexer": "ipython3",
   "version": "3.6.1"
  }
 },
 "nbformat": 4,
 "nbformat_minor": 2
}

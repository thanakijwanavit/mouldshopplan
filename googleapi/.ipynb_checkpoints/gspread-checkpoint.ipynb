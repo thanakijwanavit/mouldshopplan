{
 "cells": [
  {
   "cell_type": "code",
   "execution_count": 54,
   "metadata": {},
   "outputs": [],
   "source": [
    "import gspread\n",
    "from oauth2client.service_account import ServiceAccountCredentials\n",
    "import re\n",
    "from xlsxwriter.utility import xl_rowcol_to_cell"
   ]
  },
  {
   "cell_type": "code",
   "execution_count": null,
   "metadata": {},
   "outputs": [],
   "source": [
    "def rowtolabel(row,column):\n",
    "    return xl_rowcol_to_cell(row-1,column-1)"
   ]
  },
  {
   "cell_type": "code",
   "execution_count": 19,
   "metadata": {},
   "outputs": [],
   "source": [
    "def authenticate():\n",
    "    scope = ['https://spreadsheets.google.com/feeds',\n",
    "        'https://www.googleapis.com/auth/drive']\n",
    "    credentials = ServiceAccountCredentials.from_json_keyfile_name('Test1-346bf3e76a74.json',scope)\n",
    "    return gspread.authorize(credentials)"
   ]
  },
  {
   "cell_type": "code",
   "execution_count": 33,
   "metadata": {},
   "outputs": [],
   "source": [
    "#get the worksheet\n",
    "gc = authenticate()\n",
    "ss = gc.open_by_key('1vwKn2-gghAW0UydrCPp6GSqJZfy-08_4hrmD8qBhQt8')\n",
    "ws = ss.get_worksheet(0)"
   ]
  },
  {
   "cell_type": "code",
   "execution_count": 34,
   "metadata": {},
   "outputs": [],
   "source": [
    "dat=ws.get_all_values()\n"
   ]
  },
  {
   "cell_type": "code",
   "execution_count": 38,
   "metadata": {},
   "outputs": [
    {
     "name": "stdout",
     "output_type": "stream",
     "text": [
      "[['name', 'score', 'squre root', 'multiplication'], ['a', '1', '1', '1'], ['c', '24', '4.898979486', '117.5755077'], ['d', '26', '5.099019514', '132.5745074'], ['x', '35', '5.916079783', '207.0627924'], ['ge', '48', '6.92820323', '332.5537551'], ['gs', '58', '7.615773106', '441.7148401'], ['e', '69', '8.306623863', '573.1570465'], ['tsd', '74', '8.602325267', '636.5720698']]\n"
     ]
    }
   ],
   "source": [
    "pp=[i for i in dat]\n",
    "print(pp)"
   ]
  },
  {
   "cell_type": "code",
   "execution_count": 68,
   "metadata": {},
   "outputs": [
    {
     "name": "stdout",
     "output_type": "stream",
     "text": [
      "score,column 2,row 1\n",
      "multiplication,column 4,row 1\n"
     ]
    }
   ],
   "source": [
    "#test find cell \n",
    "def testfind():\n",
    "    amountre= re.compile(r'.c.')\n",
    "    whereis= ws.findall(amountre)\n",
    "    for i in whereis:\n",
    "        print(\"%s,column %s,row %s\" %(i.value,i.col,i.row))\n",
    "testfind()"
   ]
  },
  {
   "cell_type": "code",
   "execution_count": 50,
   "metadata": {},
   "outputs": [
    {
     "name": "stdout",
     "output_type": "stream",
     "text": [
      "score 2 1\n"
     ]
    }
   ],
   "source": [
    "#print cell from a certain location\n",
    "def testprintcell():\n",
    "    cell = ws.cell(1,2)\n",
    "    print(cell.value,cell.col,cell.row)\n",
    "testprintcell()"
   ]
  },
  {
   "cell_type": "code",
   "execution_count": 77,
   "metadata": {},
   "outputs": [
    {
     "name": "stdout",
     "output_type": "stream",
     "text": [
      "the cell column 1 row 2 was updated from new cell value21 to new cell value22\n",
      "the cell column 1 row 3 was updated from new cell value21 to new cell value23\n",
      "the cell column 1 row 4 was updated from new cell value21 to new cell value24\n",
      "the cell column 1 row 5 was updated from new cell value21 to new cell value25\n",
      "['new cell value22', 'new cell value23', 'new cell value24', 'new cell value25']\n"
     ]
    }
   ],
   "source": [
    "def updatetest():\n",
    "    cell_list = ws.range('A2:A5')\n",
    "    for cell in cell_list:#cell = ws.cell(1,2)\n",
    "        oldval=cell.value\n",
    "        cell.value=\"new cell value\"+str(20+cell.row)\n",
    "        print ('the cell column %s row %s was updated from %s to %s' %(cell.col,cell.row,oldval,cell.value))\n",
    "    ws.update_cells(cell_list)\n",
    "    print([i.value for i in cell_list])\n",
    "updatetest()"
   ]
  },
  {
   "cell_type": "code",
   "execution_count": null,
   "metadata": {},
   "outputs": [],
   "source": []
  }
 ],
 "metadata": {
  "kernelspec": {
   "display_name": "Python 3",
   "language": "python",
   "name": "python3"
  },
  "language_info": {
   "codemirror_mode": {
    "name": "ipython",
    "version": 3
   },
   "file_extension": ".py",
   "mimetype": "text/x-python",
   "name": "python",
   "nbconvert_exporter": "python",
   "pygments_lexer": "ipython3",
   "version": "3.6.1"
  }
 },
 "nbformat": 4,
 "nbformat_minor": 2
}

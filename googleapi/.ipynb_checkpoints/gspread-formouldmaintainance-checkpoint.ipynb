{
 "cells": [
  {
   "cell_type": "code",
   "execution_count": 118,
   "metadata": {},
   "outputs": [],
   "source": [
    "import gspread\n",
    "from oauth2client.service_account import ServiceAccountCredentials\n",
    "import re\n",
    "from xlsxwriter.utility import xl_rowcol_to_cell\n",
    "import pprint\n",
    "import requests\n",
    "from datetime import datetime\n",
    "from dateutil.parser import parse\n",
    "import re\n",
    "import time"
   ]
  },
  {
   "cell_type": "code",
   "execution_count": 119,
   "metadata": {},
   "outputs": [],
   "source": [
    "\n",
    "##### convert numerical column and row to a1 text label\n",
    "def rowtolabel(row,column):\n",
    "    return xl_rowcol_to_cell(row-1,column-1)"
   ]
  },
  {
   "cell_type": "code",
   "execution_count": 120,
   "metadata": {},
   "outputs": [],
   "source": [
    "def authenticate():\n",
    "    scope = ['https://spreadsheets.google.com/feeds',\n",
    "        'https://www.googleapis.com/auth/drive']\n",
    "    credentials = ServiceAccountCredentials.from_json_keyfile_name('Test1-346bf3e76a74.json',scope)\n",
    "    return gspread.authorize(credentials)"
   ]
  },
  {
   "cell_type": "code",
   "execution_count": 121,
   "metadata": {},
   "outputs": [],
   "source": [
    "## find work for each column\n",
    "\n",
    "def getworklink(arrayinput,outputcol,i,j):\n",
    "    return findworks(arrayinput,outputcol[i][j][0],outputcol[i][j][1])\n",
    "\n",
    "######create input array for the date and name\n",
    "def createinput(arrayinput):\n",
    "    #get all data in the sheet for checking\n",
    "    dat=ws.get_all_values()\n",
    "    #pp=[i for i in dat]\n",
    "    name=[]\n",
    "    date=dat[3]\n",
    "    for i in dat:\n",
    "        if i[0]== None:\n",
    "            name.append(\"\")\n",
    "        else:\n",
    "            name.append(i[0])\n",
    "    # Creates a list containing 5 lists, each of 8 items, all set to 0\n",
    "    w, h = len(date), len(name);\n",
    "    outputcol = [[0 for x in range(w)] for y in range(h)] \n",
    "\n",
    "    for i,n in enumerate(name):\n",
    "        outputcol.append(\"\")\n",
    "        for j,d in enumerate(date):\n",
    "            if (n and d) and n != ' ' and d != ' ':\n",
    "                outputcol[i][j]=[n,d]\n",
    "                work=getworklink(arrayinput,outputcol,i,j)\n",
    "                if not work:\n",
    "                    outputcol[i][j].append(\"no work\")\n",
    "                else:\n",
    "                    outputcol[i][j].append(work)\n",
    "                #ws.update_cell(i,j+1,outputcol[i][j][2])\n",
    "            else:\n",
    "                outputcol[i][j]=''\n",
    "    #print(name)\n",
    "    #print(date)\n",
    "    #print(outputcol)\n",
    "    return outputcol\n",
    "#arrayinput=getarray()\n",
    "#createinput(arrayinput)\n",
    "\n"
   ]
  },
  {
   "cell_type": "code",
   "execution_count": 116,
   "metadata": {},
   "outputs": [],
   "source": [
    "##########run this function#########\n",
    "def updatevalue(arrayinput):\n",
    "    cell_list = ws.range('e6:r22')\n",
    "    for cell in cell_list:#cell = ws.cell(1,2)\n",
    "        cell.value=arrayinput[cell.row-1][cell.col-1][2]\n",
    "        oldval=cell.value\n",
    "        #cell.value=\"new cell value\"+str(20+cell.row)\n",
    "        #print(xl_rowcol_to_cell(cell.row-1,cell.col-1),cell.value)\n",
    "        #print ('the cell column %s row %s was updated from %s to %s label %s' %(cell.col,cell.row,oldval,cell.value,xl_rowcol_to_cell(cell.row-1,cell.col-1)))\n",
    "    ws.update_cells(cell_list)\n",
    "    #print([i.value for i in cell_list])\n",
    "#updatevalue(createinput(getarray()))"
   ]
  },
  {
   "cell_type": "code",
   "execution_count": 124,
   "metadata": {},
   "outputs": [],
   "source": [
    "#convert column and row to letter\n",
    "#rowtolabel(2,1)"
   ]
  },
  {
   "cell_type": "code",
   "execution_count": 130,
   "metadata": {},
   "outputs": [],
   "source": [
    "#get data from google sheets\n",
    "\n",
    "#get data from google sheets\n",
    "def getdata(url='https://docs.google.com/spreadsheets/d/e/2PACX-1vQUZvwS_Uue7j4zfhZcw1AIujz_fZvAh7RSRnmozQJmE6j69-djrGYuZWcGTwGa446b6CtU-k-I3rkh/pub?gid=1649651434&single=true&output=csv'):\n",
    "    t=requests.get(url)\n",
    "    t.encoding='utf-8'\n",
    "    infostring=t.text\n",
    "    return infostring\n",
    "##parse google sheet data into array r\n",
    "def parseIntoArray(infostring):\n",
    "    line = infostring.split('\\r\\n')\n",
    "    s = []\n",
    "    for i in line:\n",
    "        s.append(i.split(','))\n",
    "    return s\n",
    "##get data and parse into array##\n",
    "def getarray():\n",
    "    return parseIntoArray(getdata())\n",
    "## converting date and time to datetime string\n",
    "def convertTodate(datestring):\n",
    "    try:\n",
    "        d=datetime.strptime(datestring,'%d-%b-%Y')\n",
    "    except:\n",
    "        d=\"error\"\n",
    "    return d\n",
    "##find work using the if elsif function\n",
    "\n",
    "def findworks(data,workername,todaystring):\n",
    "    today=parse(todaystring, fuzzy=True)\n",
    "    printout = ''\n",
    "    for i,j in enumerate(data):\n",
    "        try:\n",
    "            condition1= j[11]==workername\n",
    "            condition2= j[0]!='finished'\n",
    "            condition3= convertTodate(j[6]) <= today\n",
    "            condition4= j[12]==workername\n",
    "            if (condition1 * condition2 * condition3)or(condition4 * condition2 * condition3): \n",
    "                if printout != '':\n",
    "                    printout +='\\n'\n",
    "                printout += j[3]\n",
    "        except:\n",
    "            continue\n",
    "    return printout\n",
    "#findworks(getarray(),'A ปรีชา','2 jul 18')"
   ]
  },
  {
   "cell_type": "code",
   "execution_count": 131,
   "metadata": {},
   "outputs": [
    {
     "name": "stdout",
     "output_type": "stream",
     "text": [
      "5.307887077331543\n"
     ]
    }
   ],
   "source": [
    "t0=time.time()\n",
    "#get the worksheet\n",
    "gc = authenticate()\n",
    "ss = gc.open_by_key('1viBmXjVgHwbm5mbHQglLJH1g8rMDXKwceBlYJtKVy8k')\n",
    "ws = ss.worksheet('mould shop autoplan2')\n",
    "\n",
    "#updatevalue\n",
    "updatevalue(createinput(getarray()))\n",
    "print (time.time()-t0)"
   ]
  },
  {
   "cell_type": "code",
   "execution_count": null,
   "metadata": {},
   "outputs": [],
   "source": []
  }
 ],
 "metadata": {
  "kernelspec": {
   "display_name": "Python 3",
   "language": "python",
   "name": "python3"
  },
  "language_info": {
   "codemirror_mode": {
    "name": "ipython",
    "version": 3
   },
   "file_extension": ".py",
   "mimetype": "text/x-python",
   "name": "python",
   "nbconvert_exporter": "python",
   "pygments_lexer": "ipython3",
   "version": "3.6.1"
  }
 },
 "nbformat": 4,
 "nbformat_minor": 2
}
